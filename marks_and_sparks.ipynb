{
  "nbformat": 4,
  "nbformat_minor": 0,
  "metadata": {
    "colab": {
      "provenance": [],
      "authorship_tag": "ABX9TyNjM8ia8oUxO5o12Gk8YUqJ"
    },
    "kernelspec": {
      "name": "python3",
      "display_name": "Python 3"
    },
    "language_info": {
      "name": "python"
    }
  },
  "cells": [
    {
      "cell_type": "code",
      "source": [
        "import tweepy as tw\n",
        "import pandas as pd\n",
        "import numpy as np\n",
        "import json\n",
        "import re"
      ],
      "metadata": {
        "id": "5Ohqf7aeNFYv"
      },
      "execution_count": 15,
      "outputs": []
    },
    {
      "cell_type": "code",
      "source": [
        "consumer_key= 'insert'\n",
        "consumer_secret= 'insert'\n",
        "access_token= 'insert'\n",
        "access_token_secret= 'insert'\n",
        "\n",
        "auth = tw.OAuthHandler(consumer_key, consumer_secret)\n",
        "auth.set_access_token(access_token, access_token_secret)\n",
        "api = tw.API(auth,wait_on_rate_limit=True,wait_on_rate_limit_notify=True)"
      ],
      "metadata": {
        "id": "qRtXar7cNVSc"
      },
      "execution_count": 7,
      "outputs": []
    },
    {
      "cell_type": "code",
      "source": [
        "public_tweets = api.search('marks and sparks -filter:retweets', count=2000)"
      ],
      "metadata": {
        "id": "6sh9RVTEOOdS"
      },
      "execution_count": 8,
      "outputs": []
    },
    {
      "cell_type": "code",
      "source": [
        "my_list_of_dicts = []\n",
        "for each_json_tweet in public_tweets:\n",
        "    my_list_of_dicts.append(each_json_tweet._json)\n",
        "\n",
        "    \n",
        "with open('tweet_json_Data.txt', 'w') as file:\n",
        "        file.write(json.dumps(my_list_of_dicts, indent=4))\n",
        "\n",
        "        \n",
        "my_demo_list = []\n",
        "with open('tweet_json_Data.txt', encoding='utf-8') as json_file:  \n",
        "    all_data = json.load(json_file)\n",
        "    for each_dictionary in all_data:\n",
        "        tweet_id = each_dictionary['id']\n",
        "        text = each_dictionary['text']\n",
        "        favorite_count = each_dictionary['favorite_count']\n",
        "        retweet_count = each_dictionary['retweet_count']\n",
        "        created_at = each_dictionary['created_at']\n",
        "        my_demo_list.append({'tweet_id': str(tweet_id),\n",
        "                             'text': str(text),\n",
        "                             'favorite_count': int(favorite_count),\n",
        "                             'retweet_count': int(retweet_count),\n",
        "                             'created_at': created_at,\n",
        "                            })\n",
        "        \n",
        "        tweet_dataset = pd.DataFrame(my_demo_list, columns = \n",
        "                                  ['tweet_id', 'text', \n",
        "                                   'favorite_count', 'retweet_count', \n",
        "                                   'created_at'])\n",
        "\n",
        "\n",
        " #Writing tweet dataset ti csv file for future reference\n",
        "tweet_dataset.to_csv('sparks.csv')"
      ],
      "metadata": {
        "id": "OdVW9IISOZZh"
      },
      "execution_count": 9,
      "outputs": []
    },
    {
      "cell_type": "code",
      "source": [
        "from google.colab import files\n",
        "files.download(\"sparks.csv\")"
      ],
      "metadata": {
        "colab": {
          "base_uri": "https://localhost:8080/",
          "height": 17
        },
        "id": "Tc-dsk6vQo2b",
        "outputId": "239b3454-03b0-40a9-c58f-f7aa20ade90b"
      },
      "execution_count": 23,
      "outputs": [
        {
          "output_type": "display_data",
          "data": {
            "text/plain": [
              "<IPython.core.display.Javascript object>"
            ],
            "application/javascript": [
              "\n",
              "    async function download(id, filename, size) {\n",
              "      if (!google.colab.kernel.accessAllowed) {\n",
              "        return;\n",
              "      }\n",
              "      const div = document.createElement('div');\n",
              "      const label = document.createElement('label');\n",
              "      label.textContent = `Downloading \"${filename}\": `;\n",
              "      div.appendChild(label);\n",
              "      const progress = document.createElement('progress');\n",
              "      progress.max = size;\n",
              "      div.appendChild(progress);\n",
              "      document.body.appendChild(div);\n",
              "\n",
              "      const buffers = [];\n",
              "      let downloaded = 0;\n",
              "\n",
              "      const channel = await google.colab.kernel.comms.open(id);\n",
              "      // Send a message to notify the kernel that we're ready.\n",
              "      channel.send({})\n",
              "\n",
              "      for await (const message of channel.messages) {\n",
              "        // Send a message to notify the kernel that we're ready.\n",
              "        channel.send({})\n",
              "        if (message.buffers) {\n",
              "          for (const buffer of message.buffers) {\n",
              "            buffers.push(buffer);\n",
              "            downloaded += buffer.byteLength;\n",
              "            progress.value = downloaded;\n",
              "          }\n",
              "        }\n",
              "      }\n",
              "      const blob = new Blob(buffers, {type: 'application/binary'});\n",
              "      const a = document.createElement('a');\n",
              "      a.href = window.URL.createObjectURL(blob);\n",
              "      a.download = filename;\n",
              "      div.appendChild(a);\n",
              "      a.click();\n",
              "      div.remove();\n",
              "    }\n",
              "  "
            ]
          },
          "metadata": {}
        },
        {
          "output_type": "display_data",
          "data": {
            "text/plain": [
              "<IPython.core.display.Javascript object>"
            ],
            "application/javascript": [
              "download(\"download_bb73e99b-a517-474c-808f-2dc078a46794\", \"sparks.csv\", 7203)"
            ]
          },
          "metadata": {}
        }
      ]
    },
    {
      "cell_type": "code",
      "source": [
        "def cleanUpTweet(txt):\n",
        "  txt = re.sub(r'@[A-Za-z0-9_]+', '',txt)\n",
        "  txt = re.sub(r'#', '', txt)\n",
        "  txt = re.sub(r'RT : ', '', txt)\n",
        "  txt = re.sub(r'https?:\\/\\/[A-Aa-a0-9\\.\\/]+', '', txt)\n",
        "  txt = re.sub(r\"http\\S+\", \"\", txt) #removed URL!\n",
        "\n",
        "  return txt\n",
        "\n",
        "tweet_dataset[\"clean\"] = tweet_dataset[\"text\"].map(lambda x: cleanUpTweet(x))\n"
      ],
      "metadata": {
        "id": "CabccmEcOvjI"
      },
      "execution_count": 20,
      "outputs": []
    },
    {
      "cell_type": "code",
      "source": [
        "tweet_dataset.head()"
      ],
      "metadata": {
        "colab": {
          "base_uri": "https://localhost:8080/",
          "height": 337
        },
        "id": "AIYfaJk6Ozsr",
        "outputId": "a21a9c2c-ccda-4b5c-8cfa-8a1757bdacfa"
      },
      "execution_count": 24,
      "outputs": [
        {
          "output_type": "execute_result",
          "data": {
            "text/plain": [
              "              tweet_id                                               text  \\\n",
              "0  1572652592945319936  I’ve been finding this too with salad stuff(ev...   \n",
              "1  1572529441162821632  I realized I couldn't let them go, even though...   \n",
              "2  1572522169728667648  Just peaked the sales assistant in Marks and S...   \n",
              "3  1572498829232177154  Wahhhhhh!\\n🎄🎄🎄🎄🎄🎄🎄🎄🎄🎄\\nMarks n Sparks have Chr...   \n",
              "4  1572299298506776578  Marks and Spencer sparks mass online debate ov...   \n",
              "\n",
              "   favorite_count  retweet_count                      created_at  \\\n",
              "0               1              0  Wed Sep 21 18:22:51 +0000 2022   \n",
              "1               0              0  Wed Sep 21 10:13:29 +0000 2022   \n",
              "2              10              2  Wed Sep 21 09:44:35 +0000 2022   \n",
              "3               5              0  Wed Sep 21 08:11:51 +0000 2022   \n",
              "4               0              0  Tue Sep 20 18:58:59 +0000 2022   \n",
              "\n",
              "                                               clean  \n",
              "0  I’ve been finding this too with salad stuff(ev...  \n",
              "1  I realized I couldn't let them go, even though...  \n",
              "2  Just peaked the sales assistant in Marks and S...  \n",
              "3  Wahhhhhh!\\n🎄🎄🎄🎄🎄🎄🎄🎄🎄🎄\\nMarks n Sparks have Chr...  \n",
              "4  Marks and Spencer sparks mass online debate ov...  "
            ],
            "text/html": [
              "\n",
              "  <div id=\"df-77c5c370-3678-460e-8a78-b12e64a53c5b\">\n",
              "    <div class=\"colab-df-container\">\n",
              "      <div>\n",
              "<style scoped>\n",
              "    .dataframe tbody tr th:only-of-type {\n",
              "        vertical-align: middle;\n",
              "    }\n",
              "\n",
              "    .dataframe tbody tr th {\n",
              "        vertical-align: top;\n",
              "    }\n",
              "\n",
              "    .dataframe thead th {\n",
              "        text-align: right;\n",
              "    }\n",
              "</style>\n",
              "<table border=\"1\" class=\"dataframe\">\n",
              "  <thead>\n",
              "    <tr style=\"text-align: right;\">\n",
              "      <th></th>\n",
              "      <th>tweet_id</th>\n",
              "      <th>text</th>\n",
              "      <th>favorite_count</th>\n",
              "      <th>retweet_count</th>\n",
              "      <th>created_at</th>\n",
              "      <th>clean</th>\n",
              "    </tr>\n",
              "  </thead>\n",
              "  <tbody>\n",
              "    <tr>\n",
              "      <th>0</th>\n",
              "      <td>1572652592945319936</td>\n",
              "      <td>I’ve been finding this too with salad stuff(ev...</td>\n",
              "      <td>1</td>\n",
              "      <td>0</td>\n",
              "      <td>Wed Sep 21 18:22:51 +0000 2022</td>\n",
              "      <td>I’ve been finding this too with salad stuff(ev...</td>\n",
              "    </tr>\n",
              "    <tr>\n",
              "      <th>1</th>\n",
              "      <td>1572529441162821632</td>\n",
              "      <td>I realized I couldn't let them go, even though...</td>\n",
              "      <td>0</td>\n",
              "      <td>0</td>\n",
              "      <td>Wed Sep 21 10:13:29 +0000 2022</td>\n",
              "      <td>I realized I couldn't let them go, even though...</td>\n",
              "    </tr>\n",
              "    <tr>\n",
              "      <th>2</th>\n",
              "      <td>1572522169728667648</td>\n",
              "      <td>Just peaked the sales assistant in Marks and S...</td>\n",
              "      <td>10</td>\n",
              "      <td>2</td>\n",
              "      <td>Wed Sep 21 09:44:35 +0000 2022</td>\n",
              "      <td>Just peaked the sales assistant in Marks and S...</td>\n",
              "    </tr>\n",
              "    <tr>\n",
              "      <th>3</th>\n",
              "      <td>1572498829232177154</td>\n",
              "      <td>Wahhhhhh!\\n🎄🎄🎄🎄🎄🎄🎄🎄🎄🎄\\nMarks n Sparks have Chr...</td>\n",
              "      <td>5</td>\n",
              "      <td>0</td>\n",
              "      <td>Wed Sep 21 08:11:51 +0000 2022</td>\n",
              "      <td>Wahhhhhh!\\n🎄🎄🎄🎄🎄🎄🎄🎄🎄🎄\\nMarks n Sparks have Chr...</td>\n",
              "    </tr>\n",
              "    <tr>\n",
              "      <th>4</th>\n",
              "      <td>1572299298506776578</td>\n",
              "      <td>Marks and Spencer sparks mass online debate ov...</td>\n",
              "      <td>0</td>\n",
              "      <td>0</td>\n",
              "      <td>Tue Sep 20 18:58:59 +0000 2022</td>\n",
              "      <td>Marks and Spencer sparks mass online debate ov...</td>\n",
              "    </tr>\n",
              "  </tbody>\n",
              "</table>\n",
              "</div>\n",
              "      <button class=\"colab-df-convert\" onclick=\"convertToInteractive('df-77c5c370-3678-460e-8a78-b12e64a53c5b')\"\n",
              "              title=\"Convert this dataframe to an interactive table.\"\n",
              "              style=\"display:none;\">\n",
              "        \n",
              "  <svg xmlns=\"http://www.w3.org/2000/svg\" height=\"24px\"viewBox=\"0 0 24 24\"\n",
              "       width=\"24px\">\n",
              "    <path d=\"M0 0h24v24H0V0z\" fill=\"none\"/>\n",
              "    <path d=\"M18.56 5.44l.94 2.06.94-2.06 2.06-.94-2.06-.94-.94-2.06-.94 2.06-2.06.94zm-11 1L8.5 8.5l.94-2.06 2.06-.94-2.06-.94L8.5 2.5l-.94 2.06-2.06.94zm10 10l.94 2.06.94-2.06 2.06-.94-2.06-.94-.94-2.06-.94 2.06-2.06.94z\"/><path d=\"M17.41 7.96l-1.37-1.37c-.4-.4-.92-.59-1.43-.59-.52 0-1.04.2-1.43.59L10.3 9.45l-7.72 7.72c-.78.78-.78 2.05 0 2.83L4 21.41c.39.39.9.59 1.41.59.51 0 1.02-.2 1.41-.59l7.78-7.78 2.81-2.81c.8-.78.8-2.07 0-2.86zM5.41 20L4 18.59l7.72-7.72 1.47 1.35L5.41 20z\"/>\n",
              "  </svg>\n",
              "      </button>\n",
              "      \n",
              "  <style>\n",
              "    .colab-df-container {\n",
              "      display:flex;\n",
              "      flex-wrap:wrap;\n",
              "      gap: 12px;\n",
              "    }\n",
              "\n",
              "    .colab-df-convert {\n",
              "      background-color: #E8F0FE;\n",
              "      border: none;\n",
              "      border-radius: 50%;\n",
              "      cursor: pointer;\n",
              "      display: none;\n",
              "      fill: #1967D2;\n",
              "      height: 32px;\n",
              "      padding: 0 0 0 0;\n",
              "      width: 32px;\n",
              "    }\n",
              "\n",
              "    .colab-df-convert:hover {\n",
              "      background-color: #E2EBFA;\n",
              "      box-shadow: 0px 1px 2px rgba(60, 64, 67, 0.3), 0px 1px 3px 1px rgba(60, 64, 67, 0.15);\n",
              "      fill: #174EA6;\n",
              "    }\n",
              "\n",
              "    [theme=dark] .colab-df-convert {\n",
              "      background-color: #3B4455;\n",
              "      fill: #D2E3FC;\n",
              "    }\n",
              "\n",
              "    [theme=dark] .colab-df-convert:hover {\n",
              "      background-color: #434B5C;\n",
              "      box-shadow: 0px 1px 3px 1px rgba(0, 0, 0, 0.15);\n",
              "      filter: drop-shadow(0px 1px 2px rgba(0, 0, 0, 0.3));\n",
              "      fill: #FFFFFF;\n",
              "    }\n",
              "  </style>\n",
              "\n",
              "      <script>\n",
              "        const buttonEl =\n",
              "          document.querySelector('#df-77c5c370-3678-460e-8a78-b12e64a53c5b button.colab-df-convert');\n",
              "        buttonEl.style.display =\n",
              "          google.colab.kernel.accessAllowed ? 'block' : 'none';\n",
              "\n",
              "        async function convertToInteractive(key) {\n",
              "          const element = document.querySelector('#df-77c5c370-3678-460e-8a78-b12e64a53c5b');\n",
              "          const dataTable =\n",
              "            await google.colab.kernel.invokeFunction('convertToInteractive',\n",
              "                                                     [key], {});\n",
              "          if (!dataTable) return;\n",
              "\n",
              "          const docLinkHtml = 'Like what you see? Visit the ' +\n",
              "            '<a target=\"_blank\" href=https://colab.research.google.com/notebooks/data_table.ipynb>data table notebook</a>'\n",
              "            + ' to learn more about interactive tables.';\n",
              "          element.innerHTML = '';\n",
              "          dataTable['output_type'] = 'display_data';\n",
              "          await google.colab.output.renderOutput(dataTable, element);\n",
              "          const docLink = document.createElement('div');\n",
              "          docLink.innerHTML = docLinkHtml;\n",
              "          element.appendChild(docLink);\n",
              "        }\n",
              "      </script>\n",
              "    </div>\n",
              "  </div>\n",
              "  "
            ]
          },
          "metadata": {},
          "execution_count": 24
        }
      ]
    },
    {
      "cell_type": "code",
      "source": [
        "tweet_dataset['data'] = tweet_dataset.clean.tolist()"
      ],
      "metadata": {
        "id": "BEXf7Re7QQYR"
      },
      "execution_count": null,
      "outputs": []
    },
    {
      "cell_type": "code",
      "source": [
        "tweet_dataset = tweet_dataset.clean.tolist()\n",
        "\n",
        "tweet_dataset['data'] = [re.sub('\\s*@\\s*\\s?', '', str(sent)) for sent in tweet_dataset['data']]\n",
        "tweet_dataset['data'] = [re.sub('\\?', '', str(sent)) for sent in tweet_dataset['data']]\n",
        "tweet_dataset['data'] = [re.sub('\\_', '', str(sent)) for sent in tweet_dataset['data']]\n",
        "tweet_dataset['data'] = [re.sub('@\"[\\d-]\"', '', str(sent)) for sent in tweet_dataset['data']]\n",
        "\n",
        "#remove new lines characters?\n",
        "tweet_dataset['data'] = [re.sub('\\s+', '', str(sent)) for sent in tweet_dataset['data']]\n",
        "\n",
        "tweet_dataset['data'] = tweet_dataset['data'].str.lower"
      ],
      "metadata": {
        "id": "GZLeDfUYRWnV"
      },
      "execution_count": null,
      "outputs": []
    },
    {
      "cell_type": "code",
      "source": [
        "!pip install pyLDAvis"
      ],
      "metadata": {
        "id": "KOPya_vvSFvA"
      },
      "execution_count": null,
      "outputs": []
    },
    {
      "cell_type": "code",
      "source": [
        "from __future__ import print_function\n",
        "\n",
        "import gensim\n",
        "import gensim.corpora as corpora\n",
        "from gensim.utils import simple_preprocess\n",
        "from gensim.parsing.preprocessing import STOPWORDS\n",
        "from gensim.models import CoherenceModel\n",
        "\n",
        "import spacy\n",
        "\n",
        "from nltk.stem import WordNetLemmatizer, SnowballStemmer\n",
        "from nltk.stem.porter import *\n",
        "from nltk.stem.lancaster import LancasterStemmer\n",
        "\n",
        "import operator\n",
        "\n",
        "np.random.seed(2018)\n",
        "import sys\n",
        "import nltk\n",
        "import csv, os\n",
        "\n",
        "import pyLDAvis\n",
        "import pyLDAvis.gensim_models"
      ],
      "metadata": {
        "colab": {
          "base_uri": "https://localhost:8080/"
        },
        "id": "3P03IX1CSLNa",
        "outputId": "c7038747-8911-4968-e8cf-8c596ddda183"
      },
      "execution_count": 34,
      "outputs": [
        {
          "output_type": "stream",
          "name": "stderr",
          "text": [
            "/usr/local/lib/python3.7/dist-packages/past/types/oldstr.py:5: DeprecationWarning: Using or importing the ABCs from 'collections' instead of from 'collections.abc' is deprecated since Python 3.3,and in 3.9 it will stop working\n",
            "  from collections import Iterable\n"
          ]
        }
      ]
    },
    {
      "cell_type": "code",
      "source": [
        "def sent_to_words(sentences):\n",
        "  for sentence in sentences :\n",
        "    yield(gensim.utils.simple_preprocess(str(sentence), deacc=True))\n",
        "\n",
        "data_words = list(sent_to_words(tweet_dataset))\n",
        "\n",
        "print(data_words[:3])"
      ],
      "metadata": {
        "colab": {
          "base_uri": "https://localhost:8080/"
        },
        "id": "gnrxZ7fCR50q",
        "outputId": "e54bf9b2-1ff1-415b-f9ed-24f36c70c9b1"
      },
      "execution_count": 35,
      "outputs": [
        {
          "output_type": "stream",
          "name": "stdout",
          "text": [
            "[['ve', 'been', 'finding', 'this', 'too', 'with', 'salad', 'stuff', 'even', 'from', 'marks', 'and', 'sparks', 'not', 'even', 'lasting', 'dy'], ['realized', 'couldn', 'let', 'them', 'go', 'even', 'though', 'some', 'of', 'them', 'had', 'album', 'marks', 'and', 'minor', 'scratches', 'the', 'sparks', 'are', 'still', 'strong'], ['just', 'peaked', 'the', 'sales', 'assistant', 'in', 'marks', 'and', 'sparks', 'good', 'morning', 'of', 'terfing']]\n"
          ]
        }
      ]
    },
    {
      "cell_type": "code",
      "source": [
        "def lemmatization(texts, allowed_postags=[\"NOUN\", \"ADJ\", \"VERB\", \"ADV\"]):\n",
        "    nlp = spacy.load(\"en_core_web_sm\", disable=[\"parser\", \"ner\"])\n",
        "    texts_out = []\n",
        "    for text in texts:\n",
        "        doc = nlp(text)\n",
        "        new_text = []\n",
        "        for token in doc:\n",
        "            if token.pos_ in allowed_postags:\n",
        "                new_text.append(token.lemma_)\n",
        "        final = \" \".join(new_text)\n",
        "        texts_out.append(final)\n",
        "    return (texts_out)\n",
        "\n",
        "\n",
        "lemmatized_texts = lemmatization(tweet_dataset)\n",
        "print (lemmatized_texts[:2])"
      ],
      "metadata": {
        "colab": {
          "base_uri": "https://localhost:8080/"
        },
        "id": "pRlodghOSSza",
        "outputId": "510cc471-ddb6-4e7f-de8a-bd7b63b74aac"
      },
      "execution_count": 36,
      "outputs": [
        {
          "output_type": "stream",
          "name": "stdout",
          "text": [
            "['’ve find too salad even last dy 🤯', 'realize let go even album mark minor scratch still strong']\n"
          ]
        }
      ]
    },
    {
      "cell_type": "code",
      "source": [
        "bigram_phrases = gensim.models.Phrases(data_words, min_count=5, threshold=100)\n",
        "trigram_phrases = gensim.models.Phrases(bigram_phrases[data_words], threshold=100)\n",
        "\n",
        "bigram = gensim.models.phrases.Phraser(bigram_phrases)\n",
        "trigram = gensim.models.phrases.Phraser(trigram_phrases)\n",
        "\n",
        "def make_bigrams(texts):\n",
        "  return [bigram[doc] for doc in texts]\n",
        "\n",
        "def make_trigrams(texts):\n",
        "  return [trigram[bigram[doc]] for doc in texts]\n",
        "\n",
        "data_bigrams = make_bigrams(data_words)\n",
        "data_bigrams_trigrams = make_trigrams(data_bigrams)\n",
        "\n",
        "print(data_bigrams_trigrams[2])"
      ],
      "metadata": {
        "colab": {
          "base_uri": "https://localhost:8080/"
        },
        "id": "CO5rq1iiSbd7",
        "outputId": "2aaa63c9-70c7-42ad-be1c-3f6df248b91e"
      },
      "execution_count": 37,
      "outputs": [
        {
          "output_type": "stream",
          "name": "stdout",
          "text": [
            "['just', 'peaked', 'the', 'sales', 'assistant', 'in', 'marks', 'and', 'sparks', 'good', 'morning', 'of', 'terfing']\n"
          ]
        },
        {
          "output_type": "stream",
          "name": "stderr",
          "text": [
            "/usr/local/lib/python3.7/dist-packages/gensim/models/phrases.py:598: UserWarning: For a faster implementation, use the gensim.models.phrases.Phraser class\n",
            "  warnings.warn(\"For a faster implementation, use the gensim.models.phrases.Phraser class\")\n"
          ]
        }
      ]
    },
    {
      "cell_type": "code",
      "source": [
        "from gensim.models import TfidfModel\n",
        "\n",
        "id2word = corpora.Dictionary(data_bigrams_trigrams)\n",
        "\n",
        "texts = data_bigrams_trigrams\n",
        "\n",
        "corpus = [id2word.doc2bow(text) for text in texts]\n",
        "# print (corpus[0][0:20])\n",
        "\n",
        "tfidf = TfidfModel(corpus, id2word=id2word)\n",
        "\n",
        "low_value = 0.03\n",
        "words  = []\n",
        "words_missing_in_tfidf = []\n",
        "for i in range(0, len(corpus)):\n",
        "    bow = corpus[i]\n",
        "    low_value_words = [] #reinitialize to be safe. You can skip this.\n",
        "    tfidf_ids = [id for id, value in tfidf[bow]]\n",
        "    bow_ids = [id for id, value in bow]\n",
        "    low_value_words = [id for id, value in tfidf[bow] if value < low_value]\n",
        "    drops = low_value_words+words_missing_in_tfidf\n",
        "    for item in drops:\n",
        "        words.append(id2word[item])\n",
        "    words_missing_in_tfidf = [id for id in bow_ids if id not in tfidf_ids] # The words with tf-idf socre 0 will be missing\n",
        "\n",
        "    new_bow = [b for b in bow if b[0] not in low_value_words and b[0] not in words_missing_in_tfidf]\n",
        "    corpus[i] = new_bow"
      ],
      "metadata": {
        "id": "oCNFJutsSfq7"
      },
      "execution_count": 38,
      "outputs": []
    },
    {
      "cell_type": "code",
      "source": [
        "lda_model = gensim.models.ldamodel.LdaModel(corpus=corpus,\n",
        "                                           id2word=id2word,\n",
        "                                           num_topics=10,\n",
        "                                           random_state=100,\n",
        "                                           update_every=1,\n",
        "                                           chunksize=100,\n",
        "                                           passes=10,\n",
        "                                           alpha=\"auto\")"
      ],
      "metadata": {
        "id": "BLMcMC_lSk1D"
      },
      "execution_count": null,
      "outputs": []
    },
    {
      "cell_type": "code",
      "source": [
        "lda_model.print_topics()"
      ],
      "metadata": {
        "colab": {
          "base_uri": "https://localhost:8080/"
        },
        "id": "caTbt5W3SoWc",
        "outputId": "be91ac7c-b14a-4d65-922c-95ae950427bf"
      },
      "execution_count": 43,
      "outputs": [
        {
          "output_type": "execute_result",
          "data": {
            "text/plain": [
              "[(0,\n",
              "  '0.025*\"another\" + 0.025*\"woolies\" + 0.025*\"even\" + 0.013*\"the\" + 0.013*\"it\" + 0.013*\"song\" + 0.013*\"rest\" + 0.013*\"of\" + 0.013*\"be\" + 0.013*\"but\"'),\n",
              " (1,\n",
              "  '0.043*\"and\" + 0.023*\"the\" + 0.023*\"in\" + 0.023*\"of\" + 0.023*\"just\" + 0.023*\"morning\" + 0.023*\"peaked\" + 0.023*\"sales\" + 0.023*\"terfing\" + 0.023*\"assistant\"'),\n",
              " (2,\n",
              "  '0.021*\"holly\" + 0.021*\"for\" + 0.021*\"haruto\" + 0.021*\"with\" + 0.011*\"lovely\" + 0.011*\"have\" + 0.011*\"po\" + 0.011*\"here\" + 0.011*\"anyone\" + 0.011*\"guys\"'),\n",
              " (3,\n",
              "  '0.028*\"it\" + 0.028*\"the\" + 0.028*\"this\" + 0.028*\"of\" + 0.028*\"cheese\" + 0.015*\"from\" + 0.015*\"is\" + 0.015*\"to\" + 0.015*\"two\" + 0.015*\"come\"'),\n",
              " (4,\n",
              "  '0.030*\"for\" + 0.030*\"and\" + 0.023*\"or\" + 0.015*\"to\" + 0.015*\"from\" + 0.015*\"of\" + 0.015*\"you\" + 0.015*\"that\" + 0.015*\"amp\" + 0.015*\"like\"'),\n",
              " (5,\n",
              "  '0.046*\"and\" + 0.028*\"the\" + 0.019*\"to\" + 0.019*\"on\" + 0.019*\"belt\" + 0.019*\"had\" + 0.019*\"it\" + 0.019*\"still\" + 0.019*\"them\" + 0.010*\"with\"'),\n",
              " (6,\n",
              "  '0.061*\"and\" + 0.037*\"you\" + 0.025*\"like\" + 0.025*\"your\" + 0.025*\"when\" + 0.025*\"free\" + 0.025*\"from\" + 0.013*\"is\" + 0.013*\"it\" + 0.013*\"now\"'),\n",
              " (7,\n",
              "  '0.066*\"the\" + 0.034*\"in\" + 0.034*\"and\" + 0.018*\"bra\" + 0.018*\"is\" + 0.018*\"fucking\" + 0.018*\"word\" + 0.018*\"meaningless\" + 0.018*\"now\" + 0.018*\"brown\"'),\n",
              " (8,\n",
              "  '0.037*\"have\" + 0.037*\"my\" + 0.037*\"stuff\" + 0.019*\"the\" + 0.019*\"and\" + 0.019*\"to\" + 0.019*\"of\" + 0.019*\"wahhhhhh\" + 0.019*\"up\" + 0.019*\"order\"'),\n",
              " (9,\n",
              "  '0.038*\"and\" + 0.028*\"in\" + 0.028*\"the\" + 0.028*\"all\" + 0.019*\"some\" + 0.019*\"you\" + 0.019*\"on\" + 0.019*\"spencer\" + 0.019*\"get\" + 0.010*\"of\"')]"
            ]
          },
          "metadata": {},
          "execution_count": 43
        }
      ]
    },
    {
      "cell_type": "code",
      "source": [
        "pyLDAvis.enable_notebook()\n",
        "vis = pyLDAvis.gensim_models.prepare(lda_model, corpus, id2word, mds=\"mmds\", R=25)\n",
        "vis"
      ],
      "metadata": {
        "colab": {
          "base_uri": "https://localhost:8080/",
          "height": 916
        },
        "id": "0XQJF_8HSsCu",
        "outputId": "e509c509-4c0b-4424-d577-28b09400475c"
      },
      "execution_count": 44,
      "outputs": [
        {
          "output_type": "stream",
          "name": "stderr",
          "text": [
            "/usr/local/lib/python3.7/dist-packages/pyLDAvis/_prepare.py:247: FutureWarning: In a future version of pandas all arguments of DataFrame.drop except for the argument 'labels' will be keyword-only\n",
            "  by='saliency', ascending=False).head(R).drop('saliency', 1)\n"
          ]
        },
        {
          "output_type": "execute_result",
          "data": {
            "text/plain": [
              "PreparedData(topic_coordinates=              x         y  topics  cluster       Freq\n",
              "topic                                                \n",
              "4      0.004600  0.166559       1        1  19.210261\n",
              "5      0.005177 -0.184312       2        1  14.141668\n",
              "9     -0.173862 -0.087651       3        1  13.997830\n",
              "2     -0.155202  0.141447       4        1  12.514703\n",
              "0      0.128351 -0.101211       5        1   9.663372\n",
              "6      0.161749  0.006152       6        1   9.375869\n",
              "3      0.120882  0.115720       7        1   8.004417\n",
              "7     -0.038682 -0.075522       8        1   5.469323\n",
              "8     -0.067981  0.025429       9        1   4.545097\n",
              "1      0.014968 -0.006611      10        1   3.077460, topic_info=       Term       Freq      Total Category  logprob  loglift\n",
              "0       and  15.000000  15.000000  Default  25.0000  25.0000\n",
              "29      the  10.000000  10.000000  Default  24.0000  24.0000\n",
              "34       in   6.000000   6.000000  Default  23.0000  23.0000\n",
              "46       my   2.000000   2.000000  Default  22.0000  22.0000\n",
              "44     have   2.000000   2.000000  Default  21.0000  21.0000\n",
              "..      ...        ...        ...      ...      ...      ...\n",
              "269      xd   0.034823   1.340038  Topic10  -6.1698  -0.1691\n",
              "242  entire   0.034812   1.340051  Topic10  -6.1701  -0.1694\n",
              "244     our   0.034788   1.340081  Topic10  -6.1709  -0.1702\n",
              "52      for   0.036159   6.258026  Topic10  -6.1322  -1.6726\n",
              "105     now   0.035319   3.874881  Topic10  -6.1557  -1.2168\n",
              "\n",
              "[386 rows x 6 columns], token_table=      Topic      Freq      Term\n",
              "term                           \n",
              "246       7  0.863874     after\n",
              "16        2  0.779245     album\n",
              "130       1  0.291666       all\n",
              "130       3  0.583333       all\n",
              "107       3  0.779831    always\n",
              "...     ...       ...       ...\n",
              "85        5  0.151712       you\n",
              "85        6  0.303424       you\n",
              "86        4  0.405035      your\n",
              "86        6  0.405035      your\n",
              "194       2  0.779244  yourself\n",
              "\n",
              "[345 rows x 3 columns], R=25, lambda_step=0.01, plot_opts={'xlab': 'PC1', 'ylab': 'PC2'}, topic_order=[5, 6, 10, 3, 1, 7, 4, 8, 9, 2])"
            ],
            "text/html": [
              "\n",
              "<link rel=\"stylesheet\" type=\"text/css\" href=\"https://cdn.jsdelivr.net/gh/bmabey/pyLDAvis@3.3.1/pyLDAvis/js/ldavis.v1.0.0.css\">\n",
              "\n",
              "\n",
              "<div id=\"ldavis_el541400039272712485661520135\"></div>\n",
              "<script type=\"text/javascript\">\n",
              "\n",
              "var ldavis_el541400039272712485661520135_data = {\"mdsDat\": {\"x\": [0.004599846300471089, 0.005177497910021901, -0.17386212158838224, -0.15520226604539714, 0.1283505251906544, 0.16174858547843962, 0.12088242672977426, -0.03868176103776362, -0.06798123172455543, 0.014968498786737098], \"y\": [0.1665592273949688, -0.18431237813729637, -0.0876506405721007, 0.14144708762863856, -0.10121149716591896, 0.006152002817493854, 0.11571982489900468, -0.07552248090735111, 0.025429393095874886, -0.006610539053313708], \"topics\": [1, 2, 3, 4, 5, 6, 7, 8, 9, 10], \"cluster\": [1, 1, 1, 1, 1, 1, 1, 1, 1, 1], \"Freq\": [19.210260830116106, 14.141668076392605, 13.997829915778636, 12.5147027215699, 9.663372299638446, 9.375869336107598, 8.004417382989597, 5.469322914562391, 4.545096701991638, 3.0774598208530834]}, \"tinfo\": {\"Term\": [\"and\", \"the\", \"in\", \"my\", \"have\", \"stuff\", \"is\", \"of\", \"another\", \"you\", \"sparks\", \"this\", \"it\", \"that\", \"good\", \"cheese\", \"all\", \"just\", \"like\", \"your\", \"even\", \"miss\", \"for\", \"on\", \"from\", \"think\", \"or\", \"that\", \"wool\", \"shadows\", \"hrs\", \"oracle\", \"inspiration\", \"lee\", \"mama\", \"pre\", \"pylon\", \"dogs\", \"fly\", \"dot\", \"sept\", \"kill\", \"finds\", \"thinking\", \"heard\", \"mixed\", \"one\", \"evening\", \"changing\", \"rooms\", \"for\", \"amp\", \"now\", \"like\", \"and\", \"it\", \"from\", \"you\", \"of\", \"to\", \"sparks\", \"is\", \"as\", \"this\", \"have\", \"my\", \"belt\", \"had\", \"still\", \"into\", \"popped\", \"yesterday\", \"tops\", \"shelves\", \"out\", \"rugby\", \"gillet\", \"coventry\", \"marks\", \"port\", \"sandwich\", \"yourself\", \"bad\", \"yesteryears\", \"feels\", \"say\", \"tbh\", \"google\", \"comes\", \"album\", \"realized\", \"them\", \"and\", \"on\", \"the\", \"it\", \"to\", \"with\", \"got\", \"in\", \"sparks\", \"get\", \"jacket\", \"two\", \"walked\", \"here\", \"all\", \"ever\", \"chance\", \"earn\", \"am\", \"sport\", \"win\", \"amazing\", \"offers\", \"always\", \"trying\", \"saw\", \"norman\", \"shopper\", \"help\", \"jackets\", \"years\", \"customers\", \"back\", \"frequent\", \"epsom\", \"we\", \"lot\", \"there\", \"cakes\", \"spencer\", \"get\", \"in\", \"some\", \"on\", \"and\", \"the\", \"you\", \"of\", \"are\", \"from\", \"to\", \"can\", \"christmas\", \"my\", \"card\", \"holly\", \"haruto\", \"lovely\", \"anyone\", \"po\", \"guys\", \"horrible\", \"debate\", \"new\", \"days\", \"interested\", \"wala\", \"spar\", \"jeans\", \"red\", \"manyo\", \"napong\", \"bet\", \"over\", \"mass\", \"ass\", \"willoughby\", \"pictures\", \"name\", \"baka\", \"with\", \"for\", \"have\", \"here\", \"and\", \"of\", \"jacket\", \"some\", \"woolies\", \"rest\", \"song\", \"never\", \"bawlingg\", \"might\", \"im\", \"performance\", \"too\", \"dont\", \"moon\", \"perhaps\", \"dy\", \"not\", \"tho\", \"been\", \"ve\", \"more\", \"finding\", \"seriously\", \"salad\", \"lasting\", \"even\", \"another\", \"just\", \"the\", \"of\", \"in\", \"for\", \"to\", \"be\", \"but\", \"it\", \"touch\", \"from\", \"stuff\", \"this\", \"when\", \"free\", \"game\", \"swapping\", \"bare\", \"telling\", \"murphy\", \"longstaff\", \"marksandspencer\", \"till\", \"service\", \"shopping\", \"self\", \"gail\", \"join\", \"outside\", \"arteta\", \"thequeue\", \"past\", \"corrie\", \"blanket\", \"your\", \"tells\", \"his\", \"walked\", \"like\", \"you\", \"and\", \"from\", \"is\", \"now\", \"it\", \"with\", \"the\", \"another\", \"on\", \"got\", \"can\", \"cheese\", \"lighting\", \"symphony\", \"cargo\", \"flames\", \"licking\", \"bliss\", \"sounds\", \"facility\", \"unmeasured\", \"th\", \"after\", \"fantastic\", \"discovered\", \"voices\", \"hands\", \"pairs\", \"scorching\", \"slob\", \"pleasure\", \"endorse\", \"come\", \"only\", \"pants\", \"their\", \"this\", \"it\", \"of\", \"the\", \"from\", \"is\", \"to\", \"with\", \"two\", \"as\", \"got\", \"touch\", \"word\", \"bra\", \"fucking\", \"meaningless\", \"brown\", \"personally\", \"whenever\", \"maj\", \"at\", \"use\", \"follow\", \"tills\", \"her\", \"miss\", \"tells\", \"me\", \"she\", \"will\", \"the\", \"in\", \"now\", \"is\", \"to\", \"and\", \"clothing\", \"sparks\", \"wahhhhhh\", \"hour\", \"da\", \"half\", \"across\", \"pond\", \"stuff\", \"miss\", \"have\", \"my\", \"online\", \"christmas\", \"order\", \"up\", \"that\", \"another\", \"from\", \"of\", \"to\", \"clothing\", \"underrated\", \"peaked\", \"assistant\", \"sales\", \"morning\", \"the\", \"and\", \"in\", \"you\", \"for\", \"sparks\", \"sales\", \"morning\", \"peaked\", \"terfing\", \"assistant\", \"clothing\", \"underrated\", \"just\", \"good\", \"sparks\", \"is\", \"in\", \"of\", \"and\", \"the\", \"pond\", \"hour\", \"half\", \"across\", \"wahhhhhh\", \"da\", \"fucking\", \"brown\", \"meaningless\", \"word\", \"aparently\", \"bye\", \"trains\", \"work\", \"demographic\", \"business\", \"country\", \"xd\", \"entire\", \"our\", \"for\", \"now\"], \"Freq\": [15.0, 10.0, 6.0, 2.0, 2.0, 2.0, 3.0, 6.0, 2.0, 6.0, 2.0, 3.0, 5.0, 2.0, 1.0, 1.0, 3.0, 1.0, 4.0, 2.0, 2.0, 1.0, 6.0, 3.0, 6.0, 1.584426248592567, 2.338915311731542, 1.5844266357527053, 0.8299377661937997, 0.8299377661937997, 0.8299377661937997, 0.8299377661937997, 0.8299377661937997, 0.8299377661937997, 0.8299377661937997, 0.8299377661937997, 0.8299377661937997, 0.8299377661937997, 0.8299377661937997, 0.8299377661937997, 0.8299377661937997, 0.8299376694037651, 0.8299377661937997, 0.8299376694037651, 0.8299376694037651, 0.8299376694037651, 0.8299376694037651, 0.8299376694037651, 0.8299376694037651, 0.8299376694037651, 3.0887984274956053, 1.5844266357527053, 1.5816812832122638, 1.5844266357527053, 3.0885626469714014, 1.5844264421726362, 1.5844268293327746, 1.5844266357527053, 1.5844268293327746, 1.5844268293327746, 0.8299379597738689, 0.8299378629838342, 0.8299378629838342, 0.8299377661937997, 0.8299377661937997, 0.8299377661937997, 1.4633715505381717, 1.4620352875650364, 1.460995148560993, 0.7665280093311627, 0.7665280093311627, 0.7665280093311627, 0.7665280093311627, 0.7665280093311627, 0.7665280093311627, 0.7665280093311627, 0.7665280093311627, 0.7665280093311627, 0.7665279380790047, 0.7665278668268466, 0.7665278668268466, 0.7665278668268466, 0.7665277955746884, 0.7658926538373243, 0.7658203328968458, 0.7656337234947641, 0.7656087852394267, 0.7654999119418394, 0.7654187557337558, 0.7649767073448611, 0.7649703659027896, 1.4602015420239993, 3.554376856036506, 1.4633716930424878, 2.1606141038305786, 1.4616042120084902, 1.4635123448025908, 0.7680644908685782, 0.7679378757836224, 0.7667108423688649, 0.7665280093311627, 0.7665280093311627, 0.7665280093311627, 0.7665280093311627, 0.7665280093311627, 0.7665280093311627, 2.156128522550206, 0.7654648013802028, 0.7654648013802028, 0.7654648013802028, 0.7654648013802028, 0.7654648013802028, 0.7654648013802028, 0.7654648013802028, 0.7654648013802028, 0.7654648013802028, 0.7654648013802028, 0.7654648013802028, 0.7654648013802028, 0.7654648013802028, 0.7654648013802028, 0.7654648013802028, 0.7654648013802028, 0.7654648013802028, 0.7654648013802028, 0.7654648013802028, 0.7654648013802028, 0.7654648013802028, 0.7654648013802028, 0.7654648013802028, 0.7654648013802028, 1.4613418743092683, 1.4613418743092683, 2.1572190177657697, 1.4630609100345398, 1.4613418743092683, 2.853096584386887, 2.157210977638065, 1.4613421564190123, 0.7672125417719298, 0.7670679605281123, 0.7654649424350748, 0.7654649424350748, 0.7654648719076388, 0.7654648013802028, 0.7654648013802028, 0.7654648013802028, 1.410957338947541, 1.4109572128380081, 0.7390730509678842, 0.7390730509678842, 0.7390730509678842, 0.7390730509678842, 0.7390729879131178, 0.7390729879131178, 0.7390729879131178, 0.7390729879131178, 0.7390729879131178, 0.7390729879131178, 0.7390729879131178, 0.7390729879131178, 0.7390729879131178, 0.7390729879131178, 0.7390729879131178, 0.7390728618035851, 0.7390728618035851, 0.7390728618035851, 0.7390728618035851, 0.7390728618035851, 0.7390728618035851, 0.7390728618035851, 0.7390728618035851, 1.4094759302658824, 1.410957338947541, 0.7390730509678842, 0.7390730509678842, 0.7390729879131178, 0.7390729879131178, 0.7390729879131178, 0.7390728618035851, 1.2946410254204819, 0.678145326851757, 0.678145326851757, 0.6781452781632906, 0.6781452781632906, 0.6781452781632906, 0.6781452781632906, 0.6781452781632906, 0.6781452781632906, 0.6781452781632906, 0.6781452781632906, 0.6781452781632906, 0.6781452781632906, 0.6781452781632906, 0.6781452781632906, 0.6781452781632906, 0.6781452781632906, 0.6781452781632906, 0.6781452781632906, 0.6781452781632906, 0.6781452781632906, 0.6781452781632906, 1.2946408306666162, 1.2946411227974146, 0.6781452781632906, 0.6781454242286897, 0.678145326851757, 0.678145326851757, 0.678145326851757, 0.678145326851757, 0.678145326851757, 0.678145326851757, 0.678145326851757, 0.678145326851757, 0.6781452781632906, 0.6781452781632906, 0.6781452781632906, 1.2711125942623758, 1.2711124053027931, 0.6658209142021273, 0.6658209142021273, 0.6658209142021273, 0.6658209142021273, 0.6658209142021273, 0.6658209142021273, 0.6658209142021273, 0.6658209142021273, 0.6658209142021273, 0.6658209142021273, 0.6658209142021273, 0.6658208669622316, 0.6658208669622316, 0.6658208669622316, 0.6658208669622316, 0.6658208669622316, 0.6658207724824403, 0.6658207724824403, 0.6658207724824403, 1.271112688742167, 0.6658209142021273, 0.6658207724824403, 0.6658208669622316, 1.271112688742167, 1.8764043688024157, 3.0869879178824955, 1.2711124053027931, 0.6658210086819186, 0.6658210086819186, 0.6658210086819186, 0.6658209142021273, 0.6658209142021273, 0.6658209142021273, 0.6658209142021273, 0.6658209142021273, 0.6658209142021273, 1.199361280608597, 0.6282369092829516, 0.6282369092829516, 0.6282369092829516, 0.6282369092829516, 0.6282369092829516, 0.6282369092829516, 0.6282369092829516, 0.6282369092829516, 0.6282369092829516, 0.6282369092829516, 0.6282369092829516, 0.6282369092829516, 0.6282369092829516, 0.6282369092829516, 0.6282369092829516, 0.6282369092829516, 0.6282369092829516, 0.6282369092829516, 0.6282369092829516, 0.6282369092829516, 0.6282369092829516, 0.6282369092829516, 0.6282369092829516, 0.6282369092829516, 1.1993613612683904, 1.2008100918182554, 1.1993613612683904, 1.1993615225879772, 0.628862708290308, 0.6282370302726418, 0.6282369496128484, 0.6282369092829516, 0.6282369092829516, 0.6282369092829516, 0.6282369092829516, 0.6282369092829516, 0.5267030183857718, 0.5267030183857718, 0.5267030183857718, 0.5267029632718971, 0.5267029632718971, 0.5266211742818759, 0.5266207884847531, 0.5266167651719017, 0.5266132378839223, 0.5266118049231807, 0.5266084980907001, 0.5266079469519533, 0.5265708002004208, 0.5265978059990127, 0.5265840275303434, 0.5266029315893577, 0.5265997349846264, 0.5265944440526574, 1.9628978421635361, 1.0053984348673217, 0.5267029632718971, 0.5267030183857718, 0.5266064037634623, 1.0051988124132403, 0.04788212483466728, 0.04788219717162779, 0.4761947549124507, 0.4761947549124507, 0.4761947549124507, 0.4761947549124507, 0.4761947549124507, 0.4761947091119204, 0.9090990317596029, 0.4761947091119204, 0.9090990317596029, 0.9090990317596029, 0.4761947549124507, 0.4761947549124507, 0.4761947549124507, 0.4761947549124507, 0.4761947549124507, 0.4761947549124507, 0.4761947549124507, 0.4761947549124507, 0.4761947549124507, 0.043290466615165994, 0.043290466615165994, 0.043290455165033416, 0.043290455165033416, 0.04329045230250027, 0.04329045230250027, 0.4761948923140417, 0.4761948007129811, 0.0432905295908952, 0.043290526728362054, 0.043290521003295765, 0.04329050955316318, 0.37486804854056005, 0.37486804854056005, 0.37486804854056005, 0.37486804854056005, 0.37486804854056005, 0.37486795550670327, 0.37486795550670327, 0.37486804854056005, 0.37486804854056005, 0.37486792449541767, 0.37486801752927446, 0.37553491522590204, 0.37486807955184565, 0.7178438428893795, 0.37574027195908355, 0.03407892971413202, 0.03407892971413202, 0.03407892971413202, 0.03407892971413202, 0.03407892583772132, 0.03407892583772132, 0.03407893359054272, 0.03407893359054272, 0.03407892971413202, 0.03407892971413202, 0.03558877229927478, 0.035464506201502224, 0.035368712340312615, 0.035314070455101834, 0.035030359832464796, 0.034902884066633603, 0.0348676203585063, 0.034822541578489546, 0.034812133415763176, 0.034787506578593475, 0.03615935281926841, 0.03531895085617167], \"Total\": [15.0, 10.0, 6.0, 2.0, 2.0, 2.0, 3.0, 6.0, 2.0, 6.0, 2.0, 3.0, 5.0, 2.0, 1.0, 1.0, 3.0, 1.0, 4.0, 2.0, 2.0, 1.0, 6.0, 3.0, 6.0, 2.0954296640603616, 3.4664144639392993, 2.528334430874352, 1.3409410675295579, 1.34094109853823, 1.340941101982847, 1.3409411070240842, 1.340941109886617, 1.3409411109004947, 1.3409411109425662, 1.3409411131101425, 1.3409411187478417, 1.340941120826948, 1.3409411209627242, 1.340941123825257, 1.3409411297445957, 1.3409409806206818, 1.340941140864345, 1.3409409859312693, 1.3409409861027317, 1.3409409923897349, 1.3409409958636158, 1.3409410004526519, 1.3409410019496741, 1.3409410041479912, 6.258025648448694, 3.4879863904966086, 3.8748811699129746, 4.002683943834162, 15.640097016211854, 5.852835064742555, 6.319121445055586, 6.591439985774712, 6.692471326039988, 6.9562686945665835, 2.983866074851266, 3.9534635709310075, 3.20050743559325, 3.0996858432528143, 2.878634480954676, 2.9026270195991555, 1.9801395114056108, 1.980137774034866, 1.980029528863996, 1.2832958351103247, 1.283295845626272, 1.2832958560190177, 1.2832958606080536, 1.2832958728201906, 1.2832958758259636, 1.2832958769703824, 1.2832958860462056, 1.2832958865718596, 1.283295889023143, 1.283295856001367, 1.2832958561493784, 1.283295906961001, 1.283295834846367, 1.2831812616071057, 1.2831681873597898, 1.2831346107933106, 1.2831300805105328, 1.283110458408263, 1.2830957455250998, 1.2832938482831673, 1.283293705905173, 2.7346240624401896, 15.640097016211854, 3.977185757359345, 10.57118135927961, 5.852835064742555, 6.9562686945665835, 4.420031892384148, 3.1316473178234214, 6.039590934255583, 2.983866074851266, 2.6750501281558967, 1.9551804178768775, 1.8544204250307843, 1.888587702082712, 1.9551805132510098, 3.428574084289771, 1.2823292881311676, 1.2823292914143667, 1.282329302686052, 1.2823293041538104, 1.2823293059862788, 1.282329306130669, 1.282329306994419, 1.282329309173123, 1.2823293120356563, 1.2823293209842475, 1.282329321998125, 1.2823293240267013, 1.2823293241710916, 1.2823293282685941, 1.2823293283000408, 1.282329330478242, 1.2823293379739553, 1.2823293388079122, 1.282329339245762, 1.2823293414893742, 1.282329341850366, 1.2823293438800931, 1.2823293497541364, 1.28232938337833, 2.6500909001512944, 2.6750501281558967, 6.039590934255583, 3.96342819797343, 3.977185757359345, 15.640097016211854, 10.57118135927961, 6.591439985774712, 6.692471326039988, 1.9791708844133913, 6.319121445055586, 6.9562686945665835, 2.559505595862129, 1.7152337411965575, 2.9026270195991555, 1.9542606929304134, 1.930221154906702, 1.9302210802344169, 1.2583368015720562, 1.2583368076239276, 1.258336808788754, 1.2583368209495402, 1.2583367539816819, 1.2583367556597755, 1.2583367600677402, 1.2583367600677402, 1.2583367629302735, 1.2583367644757049, 1.2583367675181587, 1.2583367705250823, 1.258336773243225, 1.2583367744014928, 1.2583367822423464, 1.2583366339582076, 1.2583366471842221, 1.2583366511997884, 1.2583366556530482, 1.2583366582184135, 1.2583366635929971, 1.2583366651384285, 1.258336675459994, 4.420031892384148, 6.258025648448694, 2.878634480954676, 1.9551805132510098, 15.640097016211854, 6.692471326039988, 1.9551804178768775, 3.96342819797343, 1.8194437484140111, 1.2029479302241377, 1.2029479302241377, 1.2029478815356713, 1.2029478977018924, 1.2029479086929094, 1.2029479129155627, 1.2029479159634069, 1.202947924006177, 1.202947926034753, 1.2029479299111636, 1.2029479299111636, 1.2029479337875744, 1.2029479358161508, 1.2029479371816616, 1.2029479436687325, 1.2029479441458213, 1.2029479476842986, 1.2029479504529714, 1.202947951998403, 1.2029479525806428, 1.2029479605238151, 2.5162844090524823, 2.8576399438038464, 1.5437371568343412, 10.57118135927961, 6.692471326039988, 6.039590934255583, 6.258025648448694, 6.9562686945665835, 1.9574367624163147, 1.8995894663584667, 5.852835064742555, 1.7740724578088949, 6.319121445055586, 2.068756731647032, 3.0996858432528143, 1.7970358228729972, 1.7970357054944903, 1.191743944048829, 1.1917439494740503, 1.1917439551283153, 1.1917439555601086, 1.191743965090784, 1.1917439691882867, 1.191743972943366, 1.1917439739520086, 1.1917439774473113, 1.191743990406039, 1.191743993629564, 1.191744006366922, 1.1917440084003668, 1.1917440091007299, 1.191744011695196, 1.19174402555186, 1.1917439366735478, 1.1917439468516948, 1.191743954755465, 2.468920288261634, 1.6706192607519788, 1.8876221494180352, 1.888587702082712, 4.002683943834162, 6.591439985774712, 15.640097016211854, 6.319121445055586, 3.9534635709310075, 3.8748811699129746, 5.852835064742555, 4.420031892384148, 10.57118135927961, 2.8576399438038464, 3.977185757359345, 3.1316473178234214, 2.559505595862129, 1.728701214434207, 1.1575766670416514, 1.1575766686291544, 1.1575766777167456, 1.1575766793681432, 1.1575766819729032, 1.1575766825549874, 1.1575766854175202, 1.1575766882800536, 1.1575766891128594, 1.157576689293931, 1.157576691322507, 1.1575766955505515, 1.157576695874862, 1.1575766959115432, 1.1575766975529556, 1.157576698205841, 1.1575766996068826, 1.1575767016871392, 1.1575767070670657, 1.1575767105116828, 1.1575767120453861, 1.1575767200423583, 1.1575767252692803, 1.157576736433951, 3.0996858432528143, 5.852835064742555, 6.692471326039988, 10.57118135927961, 6.319121445055586, 3.9534635709310075, 6.9562686945665835, 4.420031892384148, 1.8544204250307843, 3.20050743559325, 3.1316473178234214, 1.7740724578088949, 1.0652732023031497, 1.0652732273263579, 1.065273236872555, 1.0652731772890305, 1.0652732428996092, 1.0653104369200017, 1.0653107003194426, 1.065312469064899, 1.0653141158934587, 1.0653147009666633, 1.065316210036443, 1.065316549848438, 1.0653333163061278, 1.4982254563151867, 1.6706192607519788, 1.6818144614207282, 1.737251180249345, 1.8198114830024195, 10.57118135927961, 6.039590934255583, 3.8748811699129746, 3.9534635709310075, 6.9562686945665835, 15.640097016211854, 0.9272414573027065, 2.983866074851266, 1.0193565629256796, 1.019356563357473, 1.0193565654313446, 1.019356572670396, 1.0193565882509512, 1.019356554801558, 2.068756731647032, 1.4982254563151867, 2.878634480954676, 2.9026270195991555, 1.6912410559762903, 1.7152337411965575, 1.7738455317421387, 2.470573104258874, 2.528334430874352, 2.8576399438038464, 6.319121445055586, 6.692471326039988, 6.9562686945665835, 0.9272414573027065, 0.927241495082361, 0.9272414207098889, 0.9272414266847071, 0.9272413933401336, 0.9272413984175492, 10.57118135927961, 15.640097016211854, 6.039590934255583, 6.591439985774712, 6.258025648448694, 2.983866074851266, 0.9272413933401336, 0.9272413984175492, 0.9272414207098889, 0.927241423822174, 0.9272414266847071, 0.9272414573027065, 0.927241495082361, 1.5437371568343412, 1.6817302399487324, 2.983866074851266, 3.9534635709310075, 6.039590934255583, 6.692471326039988, 15.640097016211854, 10.57118135927961, 1.019356554801558, 1.019356563357473, 1.019356572670396, 1.0193565882509512, 1.0193565629256796, 1.0193565654313446, 1.065273236872555, 1.0652732428996092, 1.0652731772890305, 1.0652732023031497, 1.3391081264151383, 1.3392589305504623, 1.3393752836751789, 1.339441562292546, 1.3397860327284776, 1.3399408131961565, 1.3399834752015916, 1.3400383011355146, 1.340050904250776, 1.3400808402187456, 6.258025648448694, 3.8748811699129746], \"Category\": [\"Default\", \"Default\", \"Default\", \"Default\", \"Default\", \"Default\", \"Default\", \"Default\", \"Default\", \"Default\", \"Default\", \"Default\", \"Default\", \"Default\", \"Default\", \"Default\", \"Default\", \"Default\", \"Default\", \"Default\", \"Default\", \"Default\", \"Default\", \"Default\", \"Default\", \"Topic1\", \"Topic1\", \"Topic1\", \"Topic1\", \"Topic1\", \"Topic1\", \"Topic1\", \"Topic1\", \"Topic1\", \"Topic1\", \"Topic1\", \"Topic1\", \"Topic1\", \"Topic1\", \"Topic1\", \"Topic1\", \"Topic1\", \"Topic1\", \"Topic1\", \"Topic1\", \"Topic1\", \"Topic1\", \"Topic1\", \"Topic1\", \"Topic1\", \"Topic1\", \"Topic1\", \"Topic1\", \"Topic1\", \"Topic1\", \"Topic1\", \"Topic1\", \"Topic1\", \"Topic1\", \"Topic1\", \"Topic1\", \"Topic1\", \"Topic1\", \"Topic1\", \"Topic1\", \"Topic1\", \"Topic2\", \"Topic2\", \"Topic2\", \"Topic2\", \"Topic2\", \"Topic2\", \"Topic2\", \"Topic2\", \"Topic2\", \"Topic2\", \"Topic2\", \"Topic2\", \"Topic2\", \"Topic2\", \"Topic2\", \"Topic2\", \"Topic2\", \"Topic2\", \"Topic2\", \"Topic2\", \"Topic2\", \"Topic2\", \"Topic2\", \"Topic2\", \"Topic2\", \"Topic2\", \"Topic2\", \"Topic2\", \"Topic2\", \"Topic2\", \"Topic2\", \"Topic2\", \"Topic2\", \"Topic2\", \"Topic2\", \"Topic2\", \"Topic2\", \"Topic2\", \"Topic2\", \"Topic2\", \"Topic3\", \"Topic3\", \"Topic3\", \"Topic3\", \"Topic3\", \"Topic3\", \"Topic3\", \"Topic3\", \"Topic3\", \"Topic3\", \"Topic3\", \"Topic3\", \"Topic3\", \"Topic3\", \"Topic3\", \"Topic3\", \"Topic3\", \"Topic3\", \"Topic3\", \"Topic3\", \"Topic3\", \"Topic3\", \"Topic3\", \"Topic3\", \"Topic3\", \"Topic3\", \"Topic3\", \"Topic3\", \"Topic3\", \"Topic3\", \"Topic3\", \"Topic3\", \"Topic3\", \"Topic3\", \"Topic3\", \"Topic3\", \"Topic3\", \"Topic3\", \"Topic3\", \"Topic3\", \"Topic3\", \"Topic4\", \"Topic4\", \"Topic4\", \"Topic4\", \"Topic4\", \"Topic4\", \"Topic4\", \"Topic4\", \"Topic4\", \"Topic4\", \"Topic4\", \"Topic4\", \"Topic4\", \"Topic4\", \"Topic4\", \"Topic4\", \"Topic4\", \"Topic4\", \"Topic4\", \"Topic4\", \"Topic4\", \"Topic4\", \"Topic4\", \"Topic4\", \"Topic4\", \"Topic4\", \"Topic4\", \"Topic4\", \"Topic4\", \"Topic4\", \"Topic4\", \"Topic4\", \"Topic4\", \"Topic5\", \"Topic5\", \"Topic5\", \"Topic5\", \"Topic5\", \"Topic5\", \"Topic5\", \"Topic5\", \"Topic5\", \"Topic5\", \"Topic5\", \"Topic5\", \"Topic5\", \"Topic5\", \"Topic5\", \"Topic5\", \"Topic5\", \"Topic5\", \"Topic5\", \"Topic5\", \"Topic5\", \"Topic5\", \"Topic5\", \"Topic5\", \"Topic5\", \"Topic5\", \"Topic5\", \"Topic5\", \"Topic5\", \"Topic5\", \"Topic5\", \"Topic5\", \"Topic5\", \"Topic5\", \"Topic5\", \"Topic5\", \"Topic5\", \"Topic6\", \"Topic6\", \"Topic6\", \"Topic6\", \"Topic6\", \"Topic6\", \"Topic6\", \"Topic6\", \"Topic6\", \"Topic6\", \"Topic6\", \"Topic6\", \"Topic6\", \"Topic6\", \"Topic6\", \"Topic6\", \"Topic6\", \"Topic6\", \"Topic6\", \"Topic6\", \"Topic6\", \"Topic6\", \"Topic6\", \"Topic6\", \"Topic6\", \"Topic6\", \"Topic6\", \"Topic6\", \"Topic6\", \"Topic6\", \"Topic6\", \"Topic6\", \"Topic6\", \"Topic6\", \"Topic6\", \"Topic6\", \"Topic6\", \"Topic6\", \"Topic7\", \"Topic7\", \"Topic7\", \"Topic7\", \"Topic7\", \"Topic7\", \"Topic7\", \"Topic7\", \"Topic7\", \"Topic7\", \"Topic7\", \"Topic7\", \"Topic7\", \"Topic7\", \"Topic7\", \"Topic7\", \"Topic7\", \"Topic7\", \"Topic7\", \"Topic7\", \"Topic7\", \"Topic7\", \"Topic7\", \"Topic7\", \"Topic7\", \"Topic7\", \"Topic7\", \"Topic7\", \"Topic7\", \"Topic7\", \"Topic7\", \"Topic7\", \"Topic7\", \"Topic7\", \"Topic7\", \"Topic7\", \"Topic7\", \"Topic8\", \"Topic8\", \"Topic8\", \"Topic8\", \"Topic8\", \"Topic8\", \"Topic8\", \"Topic8\", \"Topic8\", \"Topic8\", \"Topic8\", \"Topic8\", \"Topic8\", \"Topic8\", \"Topic8\", \"Topic8\", \"Topic8\", \"Topic8\", \"Topic8\", \"Topic8\", \"Topic8\", \"Topic8\", \"Topic8\", \"Topic8\", \"Topic8\", \"Topic8\", \"Topic9\", \"Topic9\", \"Topic9\", \"Topic9\", \"Topic9\", \"Topic9\", \"Topic9\", \"Topic9\", \"Topic9\", \"Topic9\", \"Topic9\", \"Topic9\", \"Topic9\", \"Topic9\", \"Topic9\", \"Topic9\", \"Topic9\", \"Topic9\", \"Topic9\", \"Topic9\", \"Topic9\", \"Topic9\", \"Topic9\", \"Topic9\", \"Topic9\", \"Topic9\", \"Topic9\", \"Topic9\", \"Topic9\", \"Topic9\", \"Topic9\", \"Topic10\", \"Topic10\", \"Topic10\", \"Topic10\", \"Topic10\", \"Topic10\", \"Topic10\", \"Topic10\", \"Topic10\", \"Topic10\", \"Topic10\", \"Topic10\", \"Topic10\", \"Topic10\", \"Topic10\", \"Topic10\", \"Topic10\", \"Topic10\", \"Topic10\", \"Topic10\", \"Topic10\", \"Topic10\", \"Topic10\", \"Topic10\", \"Topic10\", \"Topic10\", \"Topic10\", \"Topic10\", \"Topic10\", \"Topic10\", \"Topic10\", \"Topic10\", \"Topic10\", \"Topic10\", \"Topic10\", \"Topic10\", \"Topic10\"], \"logprob\": [25.0, 24.0, 23.0, 22.0, 21.0, 20.0, 19.0, 18.0, 17.0, 16.0, 15.0, 14.0, 13.0, 12.0, 11.0, 10.0, 9.0, 8.0, 7.0, 6.0, 5.0, 4.0, 3.0, 2.0, 1.0, -4.1835, -3.794, -4.1835, -4.8301, -4.8301, -4.8301, -4.8301, -4.8301, -4.8301, -4.8301, -4.8301, -4.8301, -4.8301, -4.8301, -4.8301, -4.8301, -4.8301, -4.8301, -4.8301, -4.8301, -4.8301, -4.8301, -4.8301, -4.8301, -4.8301, -3.5159, -4.1835, -4.1852, -4.1835, -3.516, -4.1835, -4.1835, -4.1835, -4.1835, -4.1835, -4.8301, -4.8301, -4.8301, -4.8301, -4.8301, -4.8301, -3.9566, -3.9575, -3.9583, -4.6033, -4.6033, -4.6033, -4.6033, -4.6033, -4.6033, -4.6033, -4.6033, -4.6033, -4.6033, -4.6033, -4.6033, -4.6033, -4.6033, -4.6041, -4.6042, -4.6044, -4.6045, -4.6046, -4.6047, -4.6053, -4.6053, -3.9588, -3.0692, -3.9566, -3.567, -3.9578, -3.9565, -4.6013, -4.6014, -4.603, -4.6033, -4.6033, -4.6033, -4.6033, -4.6033, -4.6033, -3.5588, -4.5944, -4.5944, -4.5944, -4.5944, -4.5944, -4.5944, -4.5944, -4.5944, -4.5944, -4.5944, -4.5944, -4.5944, -4.5944, -4.5944, -4.5944, -4.5944, -4.5944, -4.5944, -4.5944, -4.5944, -4.5944, -4.5944, -4.5944, -4.5944, -3.9478, -3.9478, -3.5583, -3.9466, -3.9478, -3.2787, -3.5583, -3.9478, -4.5921, -4.5923, -4.5944, -4.5944, -4.5944, -4.5944, -4.5944, -4.5944, -3.8709, -3.8709, -4.5175, -4.5175, -4.5175, -4.5175, -4.5175, -4.5175, -4.5175, -4.5175, -4.5175, -4.5175, -4.5175, -4.5175, -4.5175, -4.5175, -4.5175, -4.5175, -4.5175, -4.5175, -4.5175, -4.5175, -4.5175, -4.5175, -4.5175, -3.8719, -3.8709, -4.5175, -4.5175, -4.5175, -4.5175, -4.5175, -4.5175, -3.6984, -4.345, -4.345, -4.345, -4.345, -4.345, -4.345, -4.345, -4.345, -4.345, -4.345, -4.345, -4.345, -4.345, -4.345, -4.345, -4.345, -4.345, -4.345, -4.345, -4.345, -4.345, -3.6984, -3.6984, -4.345, -4.345, -4.345, -4.345, -4.345, -4.345, -4.345, -4.345, -4.345, -4.345, -4.345, -4.345, -4.345, -3.6865, -3.6865, -4.3331, -4.3331, -4.3331, -4.3331, -4.3331, -4.3331, -4.3331, -4.3331, -4.3331, -4.3331, -4.3331, -4.3331, -4.3331, -4.3331, -4.3331, -4.3331, -4.3331, -4.3331, -4.3331, -3.6865, -4.3331, -4.3331, -4.3331, -3.6865, -3.297, -2.7992, -3.6865, -4.3331, -4.3331, -4.3331, -4.3331, -4.3331, -4.3331, -4.3331, -4.3331, -4.3331, -3.5865, -4.2331, -4.2331, -4.2331, -4.2331, -4.2331, -4.2331, -4.2331, -4.2331, -4.2331, -4.2331, -4.2331, -4.2331, -4.2331, -4.2331, -4.2331, -4.2331, -4.2331, -4.2331, -4.2331, -4.2331, -4.2331, -4.2331, -4.2331, -4.2331, -3.5865, -3.5852, -3.5865, -3.5865, -4.2321, -4.2331, -4.2331, -4.2331, -4.2331, -4.2331, -4.2331, -4.2331, -4.0285, -4.0285, -4.0285, -4.0285, -4.0285, -4.0287, -4.0287, -4.0287, -4.0287, -4.0287, -4.0287, -4.0287, -4.0288, -4.0287, -4.0287, -4.0287, -4.0287, -4.0287, -2.713, -3.382, -4.0285, -4.0285, -4.0287, -3.3822, -6.4264, -6.4264, -3.9442, -3.9442, -3.9442, -3.9442, -3.9442, -3.9442, -3.2976, -3.9442, -3.2976, -3.2976, -3.9442, -3.9442, -3.9442, -3.9442, -3.9442, -3.9442, -3.9442, -3.9442, -3.9442, -6.3421, -6.3421, -6.3421, -6.3421, -6.3421, -6.3421, -3.9442, -3.9442, -6.3421, -6.3421, -6.3421, -6.3421, -3.7935, -3.7935, -3.7935, -3.7935, -3.7935, -3.7935, -3.7935, -3.7935, -3.7935, -3.7935, -3.7935, -3.7918, -3.7935, -3.1439, -3.7912, -6.1914, -6.1914, -6.1914, -6.1914, -6.1914, -6.1914, -6.1914, -6.1914, -6.1914, -6.1914, -6.1481, -6.1516, -6.1543, -6.1558, -6.1639, -6.1675, -6.1686, -6.1698, -6.1701, -6.1709, -6.1322, -6.1557], \"loglift\": [25.0, 24.0, 23.0, 22.0, 21.0, 20.0, 19.0, 18.0, 17.0, 16.0, 15.0, 14.0, 13.0, 12.0, 11.0, 10.0, 9.0, 8.0, 7.0, 6.0, 5.0, 4.0, 3.0, 2.0, 1.0, 1.3702, 1.2563, 1.1824, 1.1699, 1.1699, 1.1699, 1.1699, 1.1699, 1.1699, 1.1699, 1.1699, 1.1699, 1.1699, 1.1699, 1.1699, 1.1699, 1.1699, 1.1699, 1.1699, 1.1699, 1.1699, 1.1699, 1.1699, 1.1699, 1.1699, 0.9436, 0.8606, 0.7537, 0.723, 0.0276, 0.343, 0.2664, 0.2242, 0.209, 0.1703, 0.3701, 0.0887, 0.3, 0.332, 0.406, 0.3977, 1.6536, 1.6527, 1.6521, 1.4407, 1.4407, 1.4407, 1.4407, 1.4407, 1.4407, 1.4407, 1.4407, 1.4407, 1.4407, 1.4407, 1.4407, 1.4407, 1.4407, 1.44, 1.4399, 1.4397, 1.4397, 1.4395, 1.4394, 1.4387, 1.4387, 1.3286, 0.4744, 0.9562, 0.3683, 0.5687, 0.3972, 0.206, 0.5504, -0.1079, 0.5969, 0.7062, 1.0197, 1.0726, 1.0543, 1.0197, 1.5024, 1.4503, 1.4503, 1.4503, 1.4503, 1.4503, 1.4503, 1.4503, 1.4503, 1.4503, 1.4503, 1.4503, 1.4503, 1.4503, 1.4503, 1.4503, 1.4503, 1.4503, 1.4503, 1.4503, 1.4503, 1.4503, 1.4503, 1.4503, 1.4503, 1.371, 1.3617, 0.9368, 0.9697, 0.965, 0.2648, 0.377, 0.4599, -0.1997, 1.0184, -0.1446, -0.2406, 0.7592, 1.1594, 0.6334, 1.029, 1.7649, 1.7649, 1.5461, 1.5461, 1.5461, 1.5461, 1.5461, 1.5461, 1.5461, 1.5461, 1.5461, 1.5461, 1.5461, 1.5461, 1.5461, 1.5461, 1.5461, 1.5461, 1.5461, 1.5461, 1.5461, 1.5461, 1.5461, 1.5461, 1.5461, 0.9353, 0.5887, 0.7186, 1.1054, -0.9739, -0.1251, 1.1054, 0.3988, 1.9965, 1.7637, 1.7637, 1.7637, 1.7637, 1.7637, 1.7637, 1.7637, 1.7637, 1.7637, 1.7637, 1.7637, 1.7637, 1.7637, 1.7637, 1.7637, 1.7637, 1.7637, 1.7637, 1.7637, 1.7637, 1.7637, 1.6723, 1.5451, 1.5142, -0.4097, 0.0475, 0.1501, 0.1146, 0.0088, 1.2768, 1.3068, 0.1815, 1.3752, 0.1049, 1.2215, 0.8171, 2.0208, 2.0208, 1.7849, 1.7849, 1.7849, 1.7849, 1.7849, 1.7849, 1.7849, 1.7849, 1.7849, 1.7849, 1.7849, 1.7849, 1.7849, 1.7849, 1.7849, 1.7849, 1.7849, 1.7849, 1.7849, 1.7031, 1.4471, 1.325, 1.3245, 1.22, 1.1106, 0.7444, 0.7633, 0.5857, 0.6058, 0.1934, 0.4741, -0.3978, 0.9103, 0.5797, 0.8187, 1.0205, 2.1596, 1.914, 1.914, 1.914, 1.914, 1.914, 1.914, 1.914, 1.914, 1.914, 1.914, 1.914, 1.914, 1.914, 1.914, 1.914, 1.914, 1.914, 1.914, 1.914, 1.914, 1.914, 1.914, 1.914, 1.914, 1.5757, 0.9412, 0.806, 0.3488, 0.2178, 0.6857, 0.1207, 0.5742, 1.4428, 0.897, 0.9188, 1.4871, 2.2017, 2.2017, 2.2017, 2.2017, 2.2017, 2.2015, 2.2015, 2.2015, 2.2015, 2.2015, 2.2014, 2.2014, 2.2014, 1.8604, 1.7515, 1.7448, 1.7124, 1.666, 1.2223, 1.1131, 0.9104, 0.8903, 0.3251, 0.1614, -0.0575, -1.2262, 2.33, 2.33, 2.33, 2.33, 2.33, 2.33, 2.2689, 1.9449, 1.9385, 1.9302, 1.8237, 1.8096, 1.776, 1.4447, 1.4216, 1.2992, 0.5056, 0.4482, 0.4095, 0.0268, 0.0268, 0.0268, 0.0268, 0.0268, 0.0268, -0.0089, -0.4006, -1.847, -1.9345, -1.8826, -1.1419, 2.5754, 2.5754, 2.5754, 2.5754, 2.5754, 2.5754, 2.5754, 2.0657, 1.9801, 1.4067, 1.1253, 0.7033, 0.5989, 0.3997, 0.1441, 0.0828, 0.0828, 0.0828, 0.0828, 0.0828, 0.0828, 0.0388, 0.0388, 0.0388, 0.0388, -0.1467, -0.1503, -0.1531, -0.1547, -0.163, -0.1667, -0.1678, -0.1691, -0.1694, -0.1702, -1.6726, -1.2168]}, \"token.table\": {\"Topic\": [7, 2, 1, 3, 3, 3, 3, 1, 2, 3, 1, 2, 3, 4, 6, 8, 10, 5, 6, 4, 1, 2, 3, 6, 1, 4, 5, 7, 4, 8, 3, 2, 4, 6, 5, 1, 5, 5, 2, 4, 6, 7, 8, 8, 1, 2, 5, 1, 3, 3, 4, 6, 3, 4, 7, 3, 1, 7, 3, 7, 2, 6, 1, 2, 3, 4, 4, 1, 7, 1, 5, 1, 5, 3, 7, 1, 3, 2, 5, 1, 3, 7, 7, 2, 5, 1, 7, 1, 8, 1, 3, 4, 5, 6, 3, 1, 2, 3, 5, 6, 7, 8, 6, 6, 2, 3, 2, 1, 2, 2, 4, 6, 7, 4, 2, 7, 4, 1, 4, 9, 1, 3, 8, 2, 4, 3, 6, 4, 4, 1, 5, 1, 2, 3, 5, 8, 1, 4, 2, 1, 5, 6, 7, 8, 1, 2, 5, 6, 7, 2, 4, 3, 4, 6, 5, 1, 5, 1, 7, 7, 1, 2, 6, 6, 3, 4, 8, 1, 4, 2, 6, 4, 5, 8, 8, 5, 8, 1, 5, 5, 6, 1, 3, 9, 4, 4, 5, 4, 3, 5, 1, 2, 6, 8, 1, 2, 3, 4, 5, 7, 3, 2, 3, 6, 1, 4, 7, 1, 5, 1, 1, 1, 2, 6, 4, 7, 7, 6, 5, 5, 8, 4, 7, 4, 2, 2, 1, 1, 2, 4, 5, 1, 2, 5, 2, 3, 2, 7, 6, 1, 5, 6, 1, 4, 8, 2, 3, 6, 7, 2, 3, 4, 5, 5, 7, 4, 1, 2, 6, 3, 4, 3, 2, 5, 9, 6, 7, 2, 6, 6, 8, 7, 1, 1, 2, 3, 5, 6, 7, 8, 7, 1, 2, 6, 3, 1, 1, 1, 5, 7, 5, 6, 8, 1, 2, 3, 4, 5, 7, 8, 5, 2, 5, 7, 1, 3, 2, 7, 7, 1, 2, 8, 5, 7, 4, 2, 6, 3, 6, 8, 1, 8, 4, 3, 2, 4, 5, 6, 7, 1, 5, 8, 1, 1, 3, 2, 2, 1, 3, 4, 5, 6, 4, 6, 2], \"Freq\": [0.8638736487148174, 0.7792447546895303, 0.29166644074635767, 0.5833328814927153, 0.7798308832327419, 0.7798308880259777, 0.7798308862985007, 0.5733967326963241, 0.28669836634816204, 0.28669836634816204, 0.19181466693527083, 0.25575288924702777, 0.19181466693527083, 0.06393822231175694, 0.19181466693527083, 0.06393822231175694, 0.06393822231175694, 0.34993911747639045, 0.34993911747639045, 0.7946997925684652, 0.746765687007704, 0.5052620811448483, 0.5052620811448483, 0.8391063770293674, 0.3124504535995989, 0.3124504535995989, 0.3124504535995989, 0.3124504535995989, 0.7946998885453453, 0.9386902746156883, 0.779830866951564, 0.7792435484057482, 0.7946998760363102, 0.8391064168580824, 0.8312911988211598, 0.5108721871380264, 0.5108721871380264, 0.8312911670560034, 0.5050149215446671, 0.7946999022466769, 0.8391064171206062, 0.8638736552578217, 0.9387263045273542, 0.9387262908040951, 0.7463016203041858, 0.5264295352811209, 0.5264295352811209, 0.7466815991952952, 0.7798308398466812, 0.3907004546568166, 0.3907004546568166, 0.3907004546568166, 0.511702457925662, 0.511702457925662, 0.8638736588684935, 0.7798308957732948, 0.74574496457789, 0.5784689636648943, 0.5830109191429467, 0.8638736332497955, 0.77936506569177, 0.8391064226856474, 0.7462778597695443, 0.7792435169969696, 0.7798308674587233, 0.79469982260247, 0.7946998253863105, 0.746387837738163, 0.8638736453174966, 0.7457448984660175, 0.8312911792418769, 0.7457448967985515, 0.8312911738843284, 0.7798308889185747, 0.863873634394364, 0.7462403083553764, 0.77983086532087, 0.3974113563643445, 0.3974113563643445, 0.7457449654104372, 0.7798308977699271, 0.8638736509853325, 0.8638736455595221, 0.7793210662879443, 0.831291162367789, 0.7457448873225108, 0.8638736576360924, 0.7457448983905075, 0.9386884293873565, 0.47938442066687154, 0.15979480688895717, 0.15979480688895717, 0.15979480688895717, 0.5564719704469255, 0.7798308666852917, 0.3164996934130623, 0.15824984670653114, 0.15824984670653114, 0.15824984670653114, 0.15824984670653114, 0.15824984670653114, 0.9387262961151778, 0.8391063807810025, 0.8391064246591441, 0.3738247704125722, 0.3738247704125722, 0.7792435173161575, 0.5946256874292069, 0.7793561290432703, 0.31932075949568506, 0.31932075949568506, 0.31932075949568506, 0.31932075949568506, 0.7946997841527045, 0.5050153646442139, 0.8638736440651728, 0.5180753698320165, 0.3473869317609084, 0.3473869317609084, 0.3473869317609084, 0.7457449733909381, 0.7798308733609047, 0.9386733566798975, 0.5114617260261217, 0.5114617260261217, 0.5297670406698214, 0.5297670406698214, 0.51807534978982, 0.7946998264461068, 0.7457449089458903, 0.8312911883078282, 0.16557412759996074, 0.16557412759996074, 0.33114825519992147, 0.16557412759996074, 0.16557412759996074, 0.7457449045503234, 0.7946998207946434, 0.7792435482454676, 0.2529427632400084, 0.2529427632400084, 0.2529427632400084, 0.2529427632400084, 0.2529427632400084, 0.34171473787942336, 0.17085736893971168, 0.17085736893971168, 0.17085736893971168, 0.17085736893971168, 0.5114617509753376, 0.5114617509753376, 0.7798308733417808, 0.7946998159981585, 0.8391063793492551, 0.6477786685206478, 0.7457449764397011, 0.8312911554083828, 0.7457449039864701, 0.8638736556922181, 0.8638736668350784, 0.4996647319808629, 0.24983236599043146, 0.24983236599043146, 0.8391064069584626, 0.7798308638669873, 0.7946997963905111, 0.9386917257035127, 0.7457449039630727, 0.7946998135500201, 0.7792435155085001, 0.8391064043145129, 0.7946998913577923, 0.5945959099169839, 0.5945959099169839, 0.9387263486206031, 0.8312911912258719, 0.6674562868925294, 0.7457449698945121, 0.8312911765631027, 0.8312911642810664, 0.8391064098435125, 0.3445155003546054, 0.3445155003546054, 0.3445155003546054, 0.7946998825548732, 0.7946998085981464, 0.8312912099927471, 0.79469982260247, 0.7798308759405532, 0.8312911724824907, 0.5161448602680422, 0.2580724301340211, 0.2580724301340211, 0.2580724301340211, 0.29884326769068476, 0.14942163384534238, 0.14942163384534238, 0.14942163384534238, 0.14942163384534238, 0.14942163384534238, 0.779830884973552, 0.25143406946723823, 0.25143406946723823, 0.25143406946723823, 0.7457449679625634, 0.5912817669996412, 0.8638736272818338, 0.5769650515845015, 0.28848252579225075, 0.7457449061422795, 0.56374694532611, 0.7462236381476559, 0.7792435235220975, 0.8391063788561298, 0.7946998938938148, 0.8638736435779388, 0.8638736233810989, 0.8391064298520766, 0.8312911862016307, 0.8312911765631027, 0.9386935163154643, 0.7946998835308872, 0.8638736369650047, 0.7946997918328217, 0.7792435418599689, 0.7792435355599986, 0.7457449027576066, 0.7457448996222822, 0.7792448411446455, 0.7946998142815216, 0.8312911763468235, 0.7457449633553277, 0.779243522827183, 0.8312911608974722, 0.779243535470123, 0.7798308771742039, 0.7793414592579185, 0.8638736425323729, 0.8391063897493704, 0.7457448935065975, 0.8312911612998262, 0.839106401143287, 0.745744910861564, 0.5756220006461423, 0.5756220006461423, 0.7792435253472644, 0.7798308758527442, 0.8391063920190528, 0.8638736409799237, 0.25230682884865113, 0.25230682884865113, 0.25230682884865113, 0.25230682884865113, 0.8312911763468235, 0.8638736531215773, 0.7946998178971746, 0.33513568468378596, 0.33513568468378596, 0.33513568468378596, 0.3773455468802635, 0.3773455468802635, 0.7798308869115873, 0.5050429730579477, 0.4833821128905061, 0.4833821128905061, 0.839106420839248, 0.8638736656503603, 0.7793442108395738, 0.8391064165540569, 0.5985804327132445, 0.5985804327132445, 0.8638736502286983, 0.7910345939909371, 0.09459680673458304, 0.18919361346916608, 0.18919361346916608, 0.09459680673458304, 0.09459680673458304, 0.09459680673458304, 0.18919361346916608, 0.8638736150491548, 0.3656809774092564, 0.3656809774092564, 0.8391063672728971, 0.7798308602947691, 0.9544581878852257, 0.7457449734862944, 0.32261333908296935, 0.32261333908296935, 0.32261333908296935, 0.8312911715388613, 0.8391064036043281, 0.9386881299668811, 0.2875104582377854, 0.1437552291188927, 0.1437552291188927, 0.1437552291188927, 0.1437552291188927, 0.1437552291188927, 0.1437552291188927, 0.8312911806437144, 0.7792435327627241, 0.5636748350374995, 0.5636748350374995, 0.7466167340762403, 0.7798308777907795, 0.5392520415015378, 0.5392520415015378, 0.8638736503638281, 0.4047643837278725, 0.4047643837278725, 0.9386897590849006, 0.8312911667263135, 0.8638736452901221, 0.7946998198186296, 0.5294961938475041, 0.5294961938475041, 0.7798308651013377, 0.5564719340993758, 0.9386932842222849, 0.5495074678560375, 0.5495074678560375, 0.7946998869251942, 0.7798308868237783, 0.22624271144356017, 0.22624271144356017, 0.22624271144356017, 0.22624271144356017, 0.22624271144356017, 0.7457449281065869, 0.5496185308678484, 0.9387263265779827, 0.7465797897807737, 0.7462473267761267, 0.7798308720171379, 0.7792435355492806, 0.7793131258381699, 0.30342383520388433, 0.15171191760194216, 0.15171191760194216, 0.15171191760194216, 0.30342383520388433, 0.40503535280359326, 0.40503535280359326, 0.7792435046162659], \"Term\": [\"after\", \"album\", \"all\", \"all\", \"always\", \"am\", \"amazing\", \"amp\", \"amp\", \"amp\", \"and\", \"and\", \"and\", \"and\", \"and\", \"and\", \"and\", \"another\", \"another\", \"anyone\", \"aparently\", \"are\", \"are\", \"arteta\", \"as\", \"as\", \"as\", \"as\", \"ass\", \"at\", \"back\", \"bad\", \"baka\", \"bare\", \"bawlingg\", \"be\", \"be\", \"been\", \"belt\", \"bet\", \"blanket\", \"bliss\", \"bra\", \"brown\", \"business\", \"but\", \"but\", \"bye\", \"cakes\", \"can\", \"can\", \"can\", \"card\", \"card\", \"cargo\", \"chance\", \"changing\", \"cheese\", \"christmas\", \"come\", \"comes\", \"corrie\", \"country\", \"coventry\", \"customers\", \"days\", \"debate\", \"demographic\", \"discovered\", \"dogs\", \"dont\", \"dot\", \"dy\", \"earn\", \"endorse\", \"entire\", \"epsom\", \"even\", \"even\", \"evening\", \"ever\", \"facility\", \"fantastic\", \"feels\", \"finding\", \"finds\", \"flames\", \"fly\", \"follow\", \"for\", \"for\", \"for\", \"for\", \"free\", \"frequent\", \"from\", \"from\", \"from\", \"from\", \"from\", \"from\", \"fucking\", \"gail\", \"game\", \"get\", \"get\", \"gillet\", \"good\", \"google\", \"got\", \"got\", \"got\", \"got\", \"guys\", \"had\", \"hands\", \"haruto\", \"have\", \"have\", \"have\", \"heard\", \"help\", \"her\", \"here\", \"here\", \"his\", \"his\", \"holly\", \"horrible\", \"hrs\", \"im\", \"in\", \"in\", \"in\", \"in\", \"in\", \"inspiration\", \"interested\", \"into\", \"is\", \"is\", \"is\", \"is\", \"is\", \"it\", \"it\", \"it\", \"it\", \"it\", \"jacket\", \"jacket\", \"jackets\", \"jeans\", \"join\", \"just\", \"kill\", \"lasting\", \"lee\", \"licking\", \"lighting\", \"like\", \"like\", \"like\", \"longstaff\", \"lot\", \"lovely\", \"maj\", \"mama\", \"manyo\", \"marks\", \"marksandspencer\", \"mass\", \"me\", \"me\", \"meaningless\", \"might\", \"miss\", \"mixed\", \"moon\", \"more\", \"murphy\", \"my\", \"my\", \"my\", \"name\", \"napong\", \"never\", \"new\", \"norman\", \"not\", \"now\", \"now\", \"now\", \"now\", \"of\", \"of\", \"of\", \"of\", \"of\", \"of\", \"offers\", \"on\", \"on\", \"on\", \"one\", \"online\", \"only\", \"or\", \"or\", \"oracle\", \"order\", \"our\", \"out\", \"outside\", \"over\", \"pairs\", \"pants\", \"past\", \"performance\", \"perhaps\", \"personally\", \"pictures\", \"pleasure\", \"po\", \"popped\", \"port\", \"pre\", \"pylon\", \"realized\", \"red\", \"rest\", \"rooms\", \"rugby\", \"salad\", \"sandwich\", \"saw\", \"say\", \"scorching\", \"self\", \"sept\", \"seriously\", \"service\", \"shadows\", \"she\", \"she\", \"shelves\", \"shopper\", \"shopping\", \"slob\", \"some\", \"some\", \"some\", \"some\", \"song\", \"sounds\", \"spar\", \"sparks\", \"sparks\", \"sparks\", \"spencer\", \"spencer\", \"sport\", \"still\", \"stuff\", \"stuff\", \"swapping\", \"symphony\", \"tbh\", \"telling\", \"tells\", \"tells\", \"th\", \"that\", \"the\", \"the\", \"the\", \"the\", \"the\", \"the\", \"the\", \"their\", \"them\", \"them\", \"thequeue\", \"there\", \"think\", \"thinking\", \"this\", \"this\", \"this\", \"tho\", \"till\", \"tills\", \"to\", \"to\", \"to\", \"to\", \"to\", \"to\", \"to\", \"too\", \"tops\", \"touch\", \"touch\", \"trains\", \"trying\", \"two\", \"two\", \"unmeasured\", \"up\", \"up\", \"use\", \"ve\", \"voices\", \"wala\", \"walked\", \"walked\", \"we\", \"when\", \"whenever\", \"will\", \"will\", \"willoughby\", \"win\", \"with\", \"with\", \"with\", \"with\", \"with\", \"wool\", \"woolies\", \"word\", \"work\", \"xd\", \"years\", \"yesterday\", \"yesteryears\", \"you\", \"you\", \"you\", \"you\", \"you\", \"your\", \"your\", \"yourself\"]}, \"R\": 25, \"lambda.step\": 0.01, \"plot.opts\": {\"xlab\": \"PC1\", \"ylab\": \"PC2\"}, \"topic.order\": [5, 6, 10, 3, 1, 7, 4, 8, 9, 2]};\n",
              "\n",
              "function LDAvis_load_lib(url, callback){\n",
              "  var s = document.createElement('script');\n",
              "  s.src = url;\n",
              "  s.async = true;\n",
              "  s.onreadystatechange = s.onload = callback;\n",
              "  s.onerror = function(){console.warn(\"failed to load library \" + url);};\n",
              "  document.getElementsByTagName(\"head\")[0].appendChild(s);\n",
              "}\n",
              "\n",
              "if(typeof(LDAvis) !== \"undefined\"){\n",
              "   // already loaded: just create the visualization\n",
              "   !function(LDAvis){\n",
              "       new LDAvis(\"#\" + \"ldavis_el541400039272712485661520135\", ldavis_el541400039272712485661520135_data);\n",
              "   }(LDAvis);\n",
              "}else if(typeof define === \"function\" && define.amd){\n",
              "   // require.js is available: use it to load d3/LDAvis\n",
              "   require.config({paths: {d3: \"https://d3js.org/d3.v5\"}});\n",
              "   require([\"d3\"], function(d3){\n",
              "      window.d3 = d3;\n",
              "      LDAvis_load_lib(\"https://cdn.jsdelivr.net/gh/bmabey/pyLDAvis@3.3.1/pyLDAvis/js/ldavis.v3.0.0.js\", function(){\n",
              "        new LDAvis(\"#\" + \"ldavis_el541400039272712485661520135\", ldavis_el541400039272712485661520135_data);\n",
              "      });\n",
              "    });\n",
              "}else{\n",
              "    // require.js not available: dynamically load d3 & LDAvis\n",
              "    LDAvis_load_lib(\"https://d3js.org/d3.v5.js\", function(){\n",
              "         LDAvis_load_lib(\"https://cdn.jsdelivr.net/gh/bmabey/pyLDAvis@3.3.1/pyLDAvis/js/ldavis.v3.0.0.js\", function(){\n",
              "                 new LDAvis(\"#\" + \"ldavis_el541400039272712485661520135\", ldavis_el541400039272712485661520135_data);\n",
              "            })\n",
              "         });\n",
              "}\n",
              "</script>"
            ]
          },
          "metadata": {},
          "execution_count": 44
        }
      ]
    }
  ]
}